{
  "nbformat": 4,
  "nbformat_minor": 0,
  "metadata": {
    "colab": {
      "name": "Breast_Cancer_Detection.ipynb",
      "provenance": [],
      "authorship_tag": "ABX9TyPQPRsF7torz+MA20sevyqS",
      "include_colab_link": true
    },
    "kernelspec": {
      "name": "python3",
      "display_name": "Python 3"
    },
    "language_info": {
      "name": "python"
    }
  },
  "cells": [
    {
      "cell_type": "markdown",
      "metadata": {
        "id": "view-in-github",
        "colab_type": "text"
      },
      "source": [
        "<a href=\"https://colab.research.google.com/github/gururajsavalgi/E-KART/blob/addmain/Breast_Cancer_Detection.ipynb\" target=\"_parent\"><img src=\"https://colab.research.google.com/assets/colab-badge.svg\" alt=\"Open In Colab\"/></a>"
      ]
    },
    {
      "cell_type": "code",
      "metadata": {
        "id": "IIxCPrlcg-7l"
      },
      "source": [
        "import pandas as pd\n",
        "import numpy as np\n",
        "\n",
        "from sklearn.datasets import load_breast_cancer\n",
        "from sklearn.preprocessing import StandardScaler\n",
        "\n",
        "from keras.models import Sequential\n",
        "from keras.layers import Dense"
      ],
      "execution_count": 1,
      "outputs": []
    },
    {
      "cell_type": "code",
      "metadata": {
        "id": "IURdmfp8hQL5"
      },
      "source": [
        "data = load_breast_cancer()"
      ],
      "execution_count": 2,
      "outputs": []
    },
    {
      "cell_type": "code",
      "metadata": {
        "colab": {
          "base_uri": "https://localhost:8080/"
        },
        "id": "u3_zAqmRhSdw",
        "outputId": "306fc985-f5e9-4615-eb7c-fb849e8f263e"
      },
      "source": [
        "data.keys()"
      ],
      "execution_count": 3,
      "outputs": [
        {
          "output_type": "execute_result",
          "data": {
            "text/plain": [
              "dict_keys(['data', 'target', 'target_names', 'DESCR', 'feature_names', 'filename'])"
            ]
          },
          "metadata": {},
          "execution_count": 3
        }
      ]
    },
    {
      "cell_type": "code",
      "metadata": {
        "colab": {
          "base_uri": "https://localhost:8080/"
        },
        "id": "zv7Too0UhdgE",
        "outputId": "10296ec1-82d0-4314-91a9-0c3976820a01"
      },
      "source": [
        "print(data['DESCR'])"
      ],
      "execution_count": 4,
      "outputs": [
        {
          "output_type": "stream",
          "name": "stdout",
          "text": [
            ".. _breast_cancer_dataset:\n",
            "\n",
            "Breast cancer wisconsin (diagnostic) dataset\n",
            "--------------------------------------------\n",
            "\n",
            "**Data Set Characteristics:**\n",
            "\n",
            "    :Number of Instances: 569\n",
            "\n",
            "    :Number of Attributes: 30 numeric, predictive attributes and the class\n",
            "\n",
            "    :Attribute Information:\n",
            "        - radius (mean of distances from center to points on the perimeter)\n",
            "        - texture (standard deviation of gray-scale values)\n",
            "        - perimeter\n",
            "        - area\n",
            "        - smoothness (local variation in radius lengths)\n",
            "        - compactness (perimeter^2 / area - 1.0)\n",
            "        - concavity (severity of concave portions of the contour)\n",
            "        - concave points (number of concave portions of the contour)\n",
            "        - symmetry \n",
            "        - fractal dimension (\"coastline approximation\" - 1)\n",
            "\n",
            "        The mean, standard error, and \"worst\" or largest (mean of the three\n",
            "        largest values) of these features were computed for each image,\n",
            "        resulting in 30 features.  For instance, field 3 is Mean Radius, field\n",
            "        13 is Radius SE, field 23 is Worst Radius.\n",
            "\n",
            "        - class:\n",
            "                - WDBC-Malignant\n",
            "                - WDBC-Benign\n",
            "\n",
            "    :Summary Statistics:\n",
            "\n",
            "    ===================================== ====== ======\n",
            "                                           Min    Max\n",
            "    ===================================== ====== ======\n",
            "    radius (mean):                        6.981  28.11\n",
            "    texture (mean):                       9.71   39.28\n",
            "    perimeter (mean):                     43.79  188.5\n",
            "    area (mean):                          143.5  2501.0\n",
            "    smoothness (mean):                    0.053  0.163\n",
            "    compactness (mean):                   0.019  0.345\n",
            "    concavity (mean):                     0.0    0.427\n",
            "    concave points (mean):                0.0    0.201\n",
            "    symmetry (mean):                      0.106  0.304\n",
            "    fractal dimension (mean):             0.05   0.097\n",
            "    radius (standard error):              0.112  2.873\n",
            "    texture (standard error):             0.36   4.885\n",
            "    perimeter (standard error):           0.757  21.98\n",
            "    area (standard error):                6.802  542.2\n",
            "    smoothness (standard error):          0.002  0.031\n",
            "    compactness (standard error):         0.002  0.135\n",
            "    concavity (standard error):           0.0    0.396\n",
            "    concave points (standard error):      0.0    0.053\n",
            "    symmetry (standard error):            0.008  0.079\n",
            "    fractal dimension (standard error):   0.001  0.03\n",
            "    radius (worst):                       7.93   36.04\n",
            "    texture (worst):                      12.02  49.54\n",
            "    perimeter (worst):                    50.41  251.2\n",
            "    area (worst):                         185.2  4254.0\n",
            "    smoothness (worst):                   0.071  0.223\n",
            "    compactness (worst):                  0.027  1.058\n",
            "    concavity (worst):                    0.0    1.252\n",
            "    concave points (worst):               0.0    0.291\n",
            "    symmetry (worst):                     0.156  0.664\n",
            "    fractal dimension (worst):            0.055  0.208\n",
            "    ===================================== ====== ======\n",
            "\n",
            "    :Missing Attribute Values: None\n",
            "\n",
            "    :Class Distribution: 212 - Malignant, 357 - Benign\n",
            "\n",
            "    :Creator:  Dr. William H. Wolberg, W. Nick Street, Olvi L. Mangasarian\n",
            "\n",
            "    :Donor: Nick Street\n",
            "\n",
            "    :Date: November, 1995\n",
            "\n",
            "This is a copy of UCI ML Breast Cancer Wisconsin (Diagnostic) datasets.\n",
            "https://goo.gl/U2Uwz2\n",
            "\n",
            "Features are computed from a digitized image of a fine needle\n",
            "aspirate (FNA) of a breast mass.  They describe\n",
            "characteristics of the cell nuclei present in the image.\n",
            "\n",
            "Separating plane described above was obtained using\n",
            "Multisurface Method-Tree (MSM-T) [K. P. Bennett, \"Decision Tree\n",
            "Construction Via Linear Programming.\" Proceedings of the 4th\n",
            "Midwest Artificial Intelligence and Cognitive Science Society,\n",
            "pp. 97-101, 1992], a classification method which uses linear\n",
            "programming to construct a decision tree.  Relevant features\n",
            "were selected using an exhaustive search in the space of 1-4\n",
            "features and 1-3 separating planes.\n",
            "\n",
            "The actual linear program used to obtain the separating plane\n",
            "in the 3-dimensional space is that described in:\n",
            "[K. P. Bennett and O. L. Mangasarian: \"Robust Linear\n",
            "Programming Discrimination of Two Linearly Inseparable Sets\",\n",
            "Optimization Methods and Software 1, 1992, 23-34].\n",
            "\n",
            "This database is also available through the UW CS ftp server:\n",
            "\n",
            "ftp ftp.cs.wisc.edu\n",
            "cd math-prog/cpo-dataset/machine-learn/WDBC/\n",
            "\n",
            ".. topic:: References\n",
            "\n",
            "   - W.N. Street, W.H. Wolberg and O.L. Mangasarian. Nuclear feature extraction \n",
            "     for breast tumor diagnosis. IS&T/SPIE 1993 International Symposium on \n",
            "     Electronic Imaging: Science and Technology, volume 1905, pages 861-870,\n",
            "     San Jose, CA, 1993.\n",
            "   - O.L. Mangasarian, W.N. Street and W.H. Wolberg. Breast cancer diagnosis and \n",
            "     prognosis via linear programming. Operations Research, 43(4), pages 570-577, \n",
            "     July-August 1995.\n",
            "   - W.H. Wolberg, W.N. Street, and O.L. Mangasarian. Machine learning techniques\n",
            "     to diagnose breast cancer from fine-needle aspirates. Cancer Letters 77 (1994) \n",
            "     163-171.\n"
          ]
        }
      ]
    },
    {
      "cell_type": "code",
      "metadata": {
        "colab": {
          "base_uri": "https://localhost:8080/"
        },
        "id": "AD6l5KaPhn-3",
        "outputId": "789d1a29-0e05-46f4-a7db-c1deeecd8b50"
      },
      "source": [
        "data['data'].shape"
      ],
      "execution_count": 5,
      "outputs": [
        {
          "output_type": "execute_result",
          "data": {
            "text/plain": [
              "(569, 30)"
            ]
          },
          "metadata": {},
          "execution_count": 5
        }
      ]
    },
    {
      "cell_type": "code",
      "metadata": {
        "colab": {
          "base_uri": "https://localhost:8080/"
        },
        "id": "1vHnjtkDht6_",
        "outputId": "87d1ac42-75ef-4548-d8c7-8fb78070324e"
      },
      "source": [
        "data['feature_names']"
      ],
      "execution_count": 6,
      "outputs": [
        {
          "output_type": "execute_result",
          "data": {
            "text/plain": [
              "array(['mean radius', 'mean texture', 'mean perimeter', 'mean area',\n",
              "       'mean smoothness', 'mean compactness', 'mean concavity',\n",
              "       'mean concave points', 'mean symmetry', 'mean fractal dimension',\n",
              "       'radius error', 'texture error', 'perimeter error', 'area error',\n",
              "       'smoothness error', 'compactness error', 'concavity error',\n",
              "       'concave points error', 'symmetry error',\n",
              "       'fractal dimension error', 'worst radius', 'worst texture',\n",
              "       'worst perimeter', 'worst area', 'worst smoothness',\n",
              "       'worst compactness', 'worst concavity', 'worst concave points',\n",
              "       'worst symmetry', 'worst fractal dimension'], dtype='<U23')"
            ]
          },
          "metadata": {},
          "execution_count": 6
        }
      ]
    },
    {
      "cell_type": "code",
      "metadata": {
        "colab": {
          "base_uri": "https://localhost:8080/"
        },
        "id": "oqp_be-Yhzft",
        "outputId": "f2bd5e7b-d422-4652-81fa-bb3c96bc9bd9"
      },
      "source": [
        "data['data'][0]"
      ],
      "execution_count": 7,
      "outputs": [
        {
          "output_type": "execute_result",
          "data": {
            "text/plain": [
              "array([1.799e+01, 1.038e+01, 1.228e+02, 1.001e+03, 1.184e-01, 2.776e-01,\n",
              "       3.001e-01, 1.471e-01, 2.419e-01, 7.871e-02, 1.095e+00, 9.053e-01,\n",
              "       8.589e+00, 1.534e+02, 6.399e-03, 4.904e-02, 5.373e-02, 1.587e-02,\n",
              "       3.003e-02, 6.193e-03, 2.538e+01, 1.733e+01, 1.846e+02, 2.019e+03,\n",
              "       1.622e-01, 6.656e-01, 7.119e-01, 2.654e-01, 4.601e-01, 1.189e-01])"
            ]
          },
          "metadata": {},
          "execution_count": 7
        }
      ]
    },
    {
      "cell_type": "code",
      "metadata": {
        "colab": {
          "base_uri": "https://localhost:8080/"
        },
        "id": "leuz9pXCh44H",
        "outputId": "d45d479c-fc1b-42a1-eeb3-ecaf2a0355fb"
      },
      "source": [
        "j = 0\n",
        "for i in data['feature_names']:\n",
        "  print(i,\":\",data['data'][0][j])\n",
        "  j+=1"
      ],
      "execution_count": 8,
      "outputs": [
        {
          "output_type": "stream",
          "name": "stdout",
          "text": [
            "mean radius : 17.99\n",
            "mean texture : 10.38\n",
            "mean perimeter : 122.8\n",
            "mean area : 1001.0\n",
            "mean smoothness : 0.1184\n",
            "mean compactness : 0.2776\n",
            "mean concavity : 0.3001\n",
            "mean concave points : 0.1471\n",
            "mean symmetry : 0.2419\n",
            "mean fractal dimension : 0.07871\n",
            "radius error : 1.095\n",
            "texture error : 0.9053\n",
            "perimeter error : 8.589\n",
            "area error : 153.4\n",
            "smoothness error : 0.006399\n",
            "compactness error : 0.04904\n",
            "concavity error : 0.05373\n",
            "concave points error : 0.01587\n",
            "symmetry error : 0.03003\n",
            "fractal dimension error : 0.006193\n",
            "worst radius : 25.38\n",
            "worst texture : 17.33\n",
            "worst perimeter : 184.6\n",
            "worst area : 2019.0\n",
            "worst smoothness : 0.1622\n",
            "worst compactness : 0.6656\n",
            "worst concavity : 0.7119\n",
            "worst concave points : 0.2654\n",
            "worst symmetry : 0.4601\n",
            "worst fractal dimension : 0.1189\n"
          ]
        }
      ]
    },
    {
      "cell_type": "code",
      "metadata": {
        "id": "rbB-hgiwh9P9"
      },
      "source": [
        "feature = data['data']"
      ],
      "execution_count": 9,
      "outputs": []
    },
    {
      "cell_type": "code",
      "metadata": {
        "id": "X80x90NAiDnB"
      },
      "source": [
        "label = data['target']"
      ],
      "execution_count": 10,
      "outputs": []
    },
    {
      "cell_type": "code",
      "metadata": {
        "colab": {
          "base_uri": "https://localhost:8080/"
        },
        "id": "tQoFvUrdiHlH",
        "outputId": "4975ef51-ddf1-4926-a6a2-d05bbc472b79"
      },
      "source": [
        "data['target_names']"
      ],
      "execution_count": 11,
      "outputs": [
        {
          "output_type": "execute_result",
          "data": {
            "text/plain": [
              "array(['malignant', 'benign'], dtype='<U9')"
            ]
          },
          "metadata": {},
          "execution_count": 11
        }
      ]
    },
    {
      "cell_type": "code",
      "metadata": {
        "colab": {
          "base_uri": "https://localhost:8080/"
        },
        "id": "3PgID1x9iL_2",
        "outputId": "2ea68cb0-d2d9-4721-f7a6-1b2110987a45"
      },
      "source": [
        "feature.shape"
      ],
      "execution_count": 12,
      "outputs": [
        {
          "output_type": "execute_result",
          "data": {
            "text/plain": [
              "(569, 30)"
            ]
          },
          "metadata": {},
          "execution_count": 12
        }
      ]
    },
    {
      "cell_type": "code",
      "metadata": {
        "colab": {
          "base_uri": "https://localhost:8080/"
        },
        "id": "J6qE9xJ9iQ2e",
        "outputId": "9d328fd1-0cdd-43fa-9f2a-d10114fd87c8"
      },
      "source": [
        "label.shape"
      ],
      "execution_count": 13,
      "outputs": [
        {
          "output_type": "execute_result",
          "data": {
            "text/plain": [
              "(569,)"
            ]
          },
          "metadata": {},
          "execution_count": 13
        }
      ]
    },
    {
      "cell_type": "code",
      "metadata": {
        "id": "jWQCJl0GiWqb"
      },
      "source": [
        "scale = StandardScaler()\n",
        "\n",
        "feature = scale.fit_transform(feature)"
      ],
      "execution_count": 14,
      "outputs": []
    },
    {
      "cell_type": "code",
      "metadata": {
        "colab": {
          "base_uri": "https://localhost:8080/"
        },
        "id": "yKLY4QxSiawD",
        "outputId": "fc84f84a-e351-427f-cc2a-7da86a10fa63"
      },
      "source": [
        "j = 0\n",
        "for i in data['feature_names']:\n",
        "  print(i,\":\",feature[0][j])\n",
        "  j+=1"
      ],
      "execution_count": 15,
      "outputs": [
        {
          "output_type": "stream",
          "name": "stdout",
          "text": [
            "mean radius : 1.0970639814699807\n",
            "mean texture : -2.0733350146975935\n",
            "mean perimeter : 1.2699336881399383\n",
            "mean area : 0.9843749048031144\n",
            "mean smoothness : 1.568466329243428\n",
            "mean compactness : 3.2835146709868264\n",
            "mean concavity : 2.652873983743168\n",
            "mean concave points : 2.532475216403245\n",
            "mean symmetry : 2.2175150059646405\n",
            "mean fractal dimension : 2.255746885296269\n",
            "radius error : 2.4897339267376193\n",
            "texture error : -0.5652650590684639\n",
            "perimeter error : 2.833030865855184\n",
            "area error : 2.4875775569611043\n",
            "smoothness error : -0.21400164666895383\n",
            "compactness error : 1.3168615683959484\n",
            "concavity error : 0.72402615808036\n",
            "concave points error : 0.6608199414286064\n",
            "symmetry error : 1.1487566671861758\n",
            "fractal dimension error : 0.9070830809973359\n",
            "worst radius : 1.8866896251792757\n",
            "worst texture : -1.3592934737640827\n",
            "worst perimeter : 2.3036006236225606\n",
            "worst area : 2.0012374893299207\n",
            "worst smoothness : 1.3076862710715387\n",
            "worst compactness : 2.616665023512603\n",
            "worst concavity : 2.1095263465722556\n",
            "worst concave points : 2.296076127561788\n",
            "worst symmetry : 2.750622244124955\n",
            "worst fractal dimension : 1.9370146123781782\n"
          ]
        }
      ]
    },
    {
      "cell_type": "code",
      "metadata": {
        "colab": {
          "base_uri": "https://localhost:8080/"
        },
        "id": "1KeZEpjnigAz",
        "outputId": "6b6bd5a6-280d-4b43-b188-62f0102b15c5"
      },
      "source": [
        "print(feature[568])\n",
        "print(data['target_names'][label[568]],label[568])"
      ],
      "execution_count": 16,
      "outputs": [
        {
          "output_type": "stream",
          "name": "stdout",
          "text": [
            "[-1.80840125  1.22179204 -1.81438851 -1.34778924 -3.11208479 -1.15075248\n",
            " -1.11487284 -1.26181958 -0.8200699  -0.56103238 -0.07027874  0.3830925\n",
            " -0.15744905 -0.46615196  0.04934236 -1.16351619 -1.05750068 -1.91344745\n",
            "  0.75282996 -0.382754   -1.41089258  0.76418957 -1.43273495 -1.07581292\n",
            " -1.85901852 -1.2075525  -1.30583065 -1.74506282 -0.04813821 -0.75120669]\n",
            "benign 1\n"
          ]
        }
      ]
    },
    {
      "cell_type": "code",
      "metadata": {
        "id": "qFRgqzHEilEy"
      },
      "source": [
        "df_frt = pd.DataFrame(feature , columns = data['feature_names'])\n",
        "df_lbl = pd.DataFrame(label , columns = ['label'])\n",
        "df = pd.concat([df_frt, df_lbl], axis=1)\n",
        "df = df.sample(frac = 1)\n",
        "\n",
        "feature = df.values[ : , : 30]\n",
        "label = df.values[ : ,30: ]"
      ],
      "execution_count": 17,
      "outputs": []
    },
    {
      "cell_type": "code",
      "metadata": {
        "colab": {
          "base_uri": "https://localhost:8080/",
          "height": 473
        },
        "id": "9eF2BobsiqXI",
        "outputId": "7159fdea-eff8-4e52-e10b-33d7c597d124"
      },
      "source": [
        "df"
      ],
      "execution_count": 18,
      "outputs": [
        {
          "output_type": "execute_result",
          "data": {
            "text/html": [
              "<div>\n",
              "<style scoped>\n",
              "    .dataframe tbody tr th:only-of-type {\n",
              "        vertical-align: middle;\n",
              "    }\n",
              "\n",
              "    .dataframe tbody tr th {\n",
              "        vertical-align: top;\n",
              "    }\n",
              "\n",
              "    .dataframe thead th {\n",
              "        text-align: right;\n",
              "    }\n",
              "</style>\n",
              "<table border=\"1\" class=\"dataframe\">\n",
              "  <thead>\n",
              "    <tr style=\"text-align: right;\">\n",
              "      <th></th>\n",
              "      <th>mean radius</th>\n",
              "      <th>mean texture</th>\n",
              "      <th>mean perimeter</th>\n",
              "      <th>mean area</th>\n",
              "      <th>mean smoothness</th>\n",
              "      <th>mean compactness</th>\n",
              "      <th>mean concavity</th>\n",
              "      <th>mean concave points</th>\n",
              "      <th>mean symmetry</th>\n",
              "      <th>mean fractal dimension</th>\n",
              "      <th>radius error</th>\n",
              "      <th>texture error</th>\n",
              "      <th>perimeter error</th>\n",
              "      <th>area error</th>\n",
              "      <th>smoothness error</th>\n",
              "      <th>compactness error</th>\n",
              "      <th>concavity error</th>\n",
              "      <th>concave points error</th>\n",
              "      <th>symmetry error</th>\n",
              "      <th>fractal dimension error</th>\n",
              "      <th>worst radius</th>\n",
              "      <th>worst texture</th>\n",
              "      <th>worst perimeter</th>\n",
              "      <th>worst area</th>\n",
              "      <th>worst smoothness</th>\n",
              "      <th>worst compactness</th>\n",
              "      <th>worst concavity</th>\n",
              "      <th>worst concave points</th>\n",
              "      <th>worst symmetry</th>\n",
              "      <th>worst fractal dimension</th>\n",
              "      <th>label</th>\n",
              "    </tr>\n",
              "  </thead>\n",
              "  <tbody>\n",
              "    <tr>\n",
              "      <th>57</th>\n",
              "      <td>0.165497</td>\n",
              "      <td>0.535307</td>\n",
              "      <td>0.147501</td>\n",
              "      <td>0.005719</td>\n",
              "      <td>1.233989</td>\n",
              "      <td>0.609461</td>\n",
              "      <td>0.508485</td>\n",
              "      <td>0.833426</td>\n",
              "      <td>0.786345</td>\n",
              "      <td>0.677954</td>\n",
              "      <td>0.062901</td>\n",
              "      <td>-0.121295</td>\n",
              "      <td>-0.064878</td>\n",
              "      <td>-0.005436</td>\n",
              "      <td>-1.127372</td>\n",
              "      <td>0.171685</td>\n",
              "      <td>-0.204702</td>\n",
              "      <td>0.149859</td>\n",
              "      <td>-0.287234</td>\n",
              "      <td>0.118429</td>\n",
              "      <td>0.331500</td>\n",
              "      <td>0.817928</td>\n",
              "      <td>0.251356</td>\n",
              "      <td>0.184435</td>\n",
              "      <td>0.194255</td>\n",
              "      <td>1.111558</td>\n",
              "      <td>0.415041</td>\n",
              "      <td>1.047495</td>\n",
              "      <td>1.289766</td>\n",
              "      <td>1.410564</td>\n",
              "      <td>0</td>\n",
              "    </tr>\n",
              "    <tr>\n",
              "      <th>475</th>\n",
              "      <td>-0.368449</td>\n",
              "      <td>-0.828354</td>\n",
              "      <td>-0.373967</td>\n",
              "      <td>-0.420896</td>\n",
              "      <td>-0.424166</td>\n",
              "      <td>-0.410318</td>\n",
              "      <td>-0.382290</td>\n",
              "      <td>-0.467881</td>\n",
              "      <td>-0.389259</td>\n",
              "      <td>-0.519922</td>\n",
              "      <td>-0.921330</td>\n",
              "      <td>-1.323298</td>\n",
              "      <td>-0.827225</td>\n",
              "      <td>-0.631385</td>\n",
              "      <td>-0.722689</td>\n",
              "      <td>-0.420185</td>\n",
              "      <td>0.042649</td>\n",
              "      <td>-0.557375</td>\n",
              "      <td>-0.548764</td>\n",
              "      <td>-0.569610</td>\n",
              "      <td>-0.451272</td>\n",
              "      <td>-1.030349</td>\n",
              "      <td>-0.418229</td>\n",
              "      <td>-0.483045</td>\n",
              "      <td>0.010144</td>\n",
              "      <td>0.042844</td>\n",
              "      <td>0.361789</td>\n",
              "      <td>-0.255445</td>\n",
              "      <td>0.170262</td>\n",
              "      <td>-0.328384</td>\n",
              "      <td>1</td>\n",
              "    </tr>\n",
              "    <tr>\n",
              "      <th>148</th>\n",
              "      <td>0.088814</td>\n",
              "      <td>-0.956343</td>\n",
              "      <td>0.082420</td>\n",
              "      <td>-0.042062</td>\n",
              "      <td>0.237673</td>\n",
              "      <td>-0.042470</td>\n",
              "      <td>-0.049332</td>\n",
              "      <td>0.165104</td>\n",
              "      <td>-0.319891</td>\n",
              "      <td>-0.281764</td>\n",
              "      <td>-0.593975</td>\n",
              "      <td>-0.866265</td>\n",
              "      <td>-0.369322</td>\n",
              "      <td>-0.421048</td>\n",
              "      <td>-0.445011</td>\n",
              "      <td>-0.140179</td>\n",
              "      <td>-0.024991</td>\n",
              "      <td>0.508343</td>\n",
              "      <td>-0.726749</td>\n",
              "      <td>-0.479208</td>\n",
              "      <td>-0.086807</td>\n",
              "      <td>-0.948927</td>\n",
              "      <td>0.039877</td>\n",
              "      <td>-0.199845</td>\n",
              "      <td>-0.033692</td>\n",
              "      <td>0.122361</td>\n",
              "      <td>0.182841</td>\n",
              "      <td>0.689670</td>\n",
              "      <td>-0.339339</td>\n",
              "      <td>-0.394329</td>\n",
              "      <td>1</td>\n",
              "    </tr>\n",
              "    <tr>\n",
              "      <th>496</th>\n",
              "      <td>-0.419572</td>\n",
              "      <td>-0.260550</td>\n",
              "      <td>-0.382205</td>\n",
              "      <td>-0.481476</td>\n",
              "      <td>0.799880</td>\n",
              "      <td>0.550711</td>\n",
              "      <td>-0.108341</td>\n",
              "      <td>0.046967</td>\n",
              "      <td>-0.622919</td>\n",
              "      <td>0.814044</td>\n",
              "      <td>-0.623571</td>\n",
              "      <td>-1.058948</td>\n",
              "      <td>-0.579215</td>\n",
              "      <td>-0.482653</td>\n",
              "      <td>-0.445678</td>\n",
              "      <td>-0.025605</td>\n",
              "      <td>-0.183482</td>\n",
              "      <td>-0.239444</td>\n",
              "      <td>-0.357460</td>\n",
              "      <td>-0.087718</td>\n",
              "      <td>-0.391218</td>\n",
              "      <td>-0.574386</td>\n",
              "      <td>-0.356573</td>\n",
              "      <td>-0.433999</td>\n",
              "      <td>0.917547</td>\n",
              "      <td>0.826568</td>\n",
              "      <td>0.412642</td>\n",
              "      <td>0.397319</td>\n",
              "      <td>0.532645</td>\n",
              "      <td>1.072528</td>\n",
              "      <td>1</td>\n",
              "    </tr>\n",
              "    <tr>\n",
              "      <th>308</th>\n",
              "      <td>-0.178160</td>\n",
              "      <td>-1.531128</td>\n",
              "      <td>-0.258635</td>\n",
              "      <td>-0.252241</td>\n",
              "      <td>-1.608359</td>\n",
              "      <td>-1.292510</td>\n",
              "      <td>-1.080246</td>\n",
              "      <td>-1.147836</td>\n",
              "      <td>-1.630579</td>\n",
              "      <td>-1.339297</td>\n",
              "      <td>-0.652444</td>\n",
              "      <td>-0.962425</td>\n",
              "      <td>-0.671786</td>\n",
              "      <td>-0.438870</td>\n",
              "      <td>-1.234376</td>\n",
              "      <td>-1.214599</td>\n",
              "      <td>-0.990192</td>\n",
              "      <td>-1.387564</td>\n",
              "      <td>-0.695269</td>\n",
              "      <td>-0.843086</td>\n",
              "      <td>-0.269040</td>\n",
              "      <td>-1.422803</td>\n",
              "      <td>-0.350913</td>\n",
              "      <td>-0.319735</td>\n",
              "      <td>-1.847183</td>\n",
              "      <td>-1.246230</td>\n",
              "      <td>-1.239673</td>\n",
              "      <td>-1.408555</td>\n",
              "      <td>-1.025278</td>\n",
              "      <td>-1.220579</td>\n",
              "      <td>1</td>\n",
              "    </tr>\n",
              "    <tr>\n",
              "      <th>...</th>\n",
              "      <td>...</td>\n",
              "      <td>...</td>\n",
              "      <td>...</td>\n",
              "      <td>...</td>\n",
              "      <td>...</td>\n",
              "      <td>...</td>\n",
              "      <td>...</td>\n",
              "      <td>...</td>\n",
              "      <td>...</td>\n",
              "      <td>...</td>\n",
              "      <td>...</td>\n",
              "      <td>...</td>\n",
              "      <td>...</td>\n",
              "      <td>...</td>\n",
              "      <td>...</td>\n",
              "      <td>...</td>\n",
              "      <td>...</td>\n",
              "      <td>...</td>\n",
              "      <td>...</td>\n",
              "      <td>...</td>\n",
              "      <td>...</td>\n",
              "      <td>...</td>\n",
              "      <td>...</td>\n",
              "      <td>...</td>\n",
              "      <td>...</td>\n",
              "      <td>...</td>\n",
              "      <td>...</td>\n",
              "      <td>...</td>\n",
              "      <td>...</td>\n",
              "      <td>...</td>\n",
              "      <td>...</td>\n",
              "    </tr>\n",
              "    <tr>\n",
              "      <th>130</th>\n",
              "      <td>-0.550218</td>\n",
              "      <td>-1.396158</td>\n",
              "      <td>-0.530902</td>\n",
              "      <td>-0.566230</td>\n",
              "      <td>0.728714</td>\n",
              "      <td>-0.175320</td>\n",
              "      <td>-0.756428</td>\n",
              "      <td>-0.518437</td>\n",
              "      <td>0.249657</td>\n",
              "      <td>0.271101</td>\n",
              "      <td>-0.738704</td>\n",
              "      <td>-0.726742</td>\n",
              "      <td>-0.442092</td>\n",
              "      <td>-0.552179</td>\n",
              "      <td>-0.089330</td>\n",
              "      <td>-0.051314</td>\n",
              "      <td>-0.719962</td>\n",
              "      <td>-0.600522</td>\n",
              "      <td>0.735879</td>\n",
              "      <td>0.131668</td>\n",
              "      <td>-0.606584</td>\n",
              "      <td>-1.281128</td>\n",
              "      <td>-0.473035</td>\n",
              "      <td>-0.589574</td>\n",
              "      <td>0.452886</td>\n",
              "      <td>0.026940</td>\n",
              "      <td>-0.830156</td>\n",
              "      <td>-0.498461</td>\n",
              "      <td>0.919295</td>\n",
              "      <td>0.469050</td>\n",
              "      <td>1</td>\n",
              "    </tr>\n",
              "    <tr>\n",
              "      <th>188</th>\n",
              "      <td>-0.658144</td>\n",
              "      <td>-0.442061</td>\n",
              "      <td>-0.687837</td>\n",
              "      <td>-0.642736</td>\n",
              "      <td>0.308838</td>\n",
              "      <td>-0.923335</td>\n",
              "      <td>-0.819454</td>\n",
              "      <td>-0.861239</td>\n",
              "      <td>-0.341796</td>\n",
              "      <td>-0.708463</td>\n",
              "      <td>-0.791399</td>\n",
              "      <td>1.286636</td>\n",
              "      <td>-0.918311</td>\n",
              "      <td>-0.569120</td>\n",
              "      <td>0.263351</td>\n",
              "      <td>-0.933475</td>\n",
              "      <td>-0.541577</td>\n",
              "      <td>-0.901259</td>\n",
              "      <td>1.313423</td>\n",
              "      <td>-0.683464</td>\n",
              "      <td>-0.766038</td>\n",
              "      <td>0.130727</td>\n",
              "      <td>-0.824806</td>\n",
              "      <td>-0.687490</td>\n",
              "      <td>0.141652</td>\n",
              "      <td>-0.981341</td>\n",
              "      <td>-0.883505</td>\n",
              "      <td>-1.089406</td>\n",
              "      <td>0.484112</td>\n",
              "      <td>-1.007782</td>\n",
              "      <td>1</td>\n",
              "    </tr>\n",
              "    <tr>\n",
              "      <th>524</th>\n",
              "      <td>-1.215664</td>\n",
              "      <td>-0.839989</td>\n",
              "      <td>-1.193240</td>\n",
              "      <td>-1.028681</td>\n",
              "      <td>-0.102498</td>\n",
              "      <td>-0.381891</td>\n",
              "      <td>-0.822342</td>\n",
              "      <td>-0.638637</td>\n",
              "      <td>-1.550259</td>\n",
              "      <td>0.866495</td>\n",
              "      <td>-0.560770</td>\n",
              "      <td>-0.001548</td>\n",
              "      <td>-0.440607</td>\n",
              "      <td>-0.552179</td>\n",
              "      <td>0.563697</td>\n",
              "      <td>-0.282697</td>\n",
              "      <td>-0.705373</td>\n",
              "      <td>-0.810260</td>\n",
              "      <td>-0.278759</td>\n",
              "      <td>-0.113817</td>\n",
              "      <td>-1.041457</td>\n",
              "      <td>-0.437598</td>\n",
              "      <td>-0.981182</td>\n",
              "      <td>-0.886134</td>\n",
              "      <td>0.417818</td>\n",
              "      <td>-0.190620</td>\n",
              "      <td>-0.901208</td>\n",
              "      <td>-0.751071</td>\n",
              "      <td>-0.645099</td>\n",
              "      <td>0.451317</td>\n",
              "      <td>1</td>\n",
              "    </tr>\n",
              "    <tr>\n",
              "      <th>146</th>\n",
              "      <td>-0.660984</td>\n",
              "      <td>-0.630553</td>\n",
              "      <td>-0.534609</td>\n",
              "      <td>-0.633919</td>\n",
              "      <td>0.906628</td>\n",
              "      <td>1.244335</td>\n",
              "      <td>0.967997</td>\n",
              "      <td>0.650804</td>\n",
              "      <td>3.163109</td>\n",
              "      <td>1.546945</td>\n",
              "      <td>-0.308487</td>\n",
              "      <td>0.379464</td>\n",
              "      <td>-0.289622</td>\n",
              "      <td>-0.343602</td>\n",
              "      <td>-0.538015</td>\n",
              "      <td>0.606506</td>\n",
              "      <td>0.483969</td>\n",
              "      <td>1.076077</td>\n",
              "      <td>4.327067</td>\n",
              "      <td>0.317767</td>\n",
              "      <td>-0.523751</td>\n",
              "      <td>0.114443</td>\n",
              "      <td>-0.456653</td>\n",
              "      <td>-0.507831</td>\n",
              "      <td>0.268776</td>\n",
              "      <td>0.985603</td>\n",
              "      <td>0.854974</td>\n",
              "      <td>1.094698</td>\n",
              "      <td>4.648279</td>\n",
              "      <td>1.055903</td>\n",
              "      <td>0</td>\n",
              "    </tr>\n",
              "    <tr>\n",
              "      <th>127</th>\n",
              "      <td>1.383918</td>\n",
              "      <td>-0.088347</td>\n",
              "      <td>1.294648</td>\n",
              "      <td>1.374017</td>\n",
              "      <td>-1.009858</td>\n",
              "      <td>-0.455991</td>\n",
              "      <td>0.049099</td>\n",
              "      <td>0.189608</td>\n",
              "      <td>0.490619</td>\n",
              "      <td>-1.751820</td>\n",
              "      <td>1.026560</td>\n",
              "      <td>0.227059</td>\n",
              "      <td>1.163293</td>\n",
              "      <td>0.899714</td>\n",
              "      <td>-0.871028</td>\n",
              "      <td>0.102382</td>\n",
              "      <td>0.282043</td>\n",
              "      <td>0.294226</td>\n",
              "      <td>-0.029337</td>\n",
              "      <td>-0.419444</td>\n",
              "      <td>1.253017</td>\n",
              "      <td>0.008594</td>\n",
              "      <td>1.219396</td>\n",
              "      <td>1.155681</td>\n",
              "      <td>-1.326851</td>\n",
              "      <td>-0.177261</td>\n",
              "      <td>0.232735</td>\n",
              "      <td>0.109537</td>\n",
              "      <td>-0.096672</td>\n",
              "      <td>-1.027177</td>\n",
              "      <td>0</td>\n",
              "    </tr>\n",
              "  </tbody>\n",
              "</table>\n",
              "<p>569 rows × 31 columns</p>\n",
              "</div>"
            ],
            "text/plain": [
              "     mean radius  mean texture  ...  worst fractal dimension  label\n",
              "57      0.165497      0.535307  ...                 1.410564      0\n",
              "475    -0.368449     -0.828354  ...                -0.328384      1\n",
              "148     0.088814     -0.956343  ...                -0.394329      1\n",
              "496    -0.419572     -0.260550  ...                 1.072528      1\n",
              "308    -0.178160     -1.531128  ...                -1.220579      1\n",
              "..           ...           ...  ...                      ...    ...\n",
              "130    -0.550218     -1.396158  ...                 0.469050      1\n",
              "188    -0.658144     -0.442061  ...                -1.007782      1\n",
              "524    -1.215664     -0.839989  ...                 0.451317      1\n",
              "146    -0.660984     -0.630553  ...                 1.055903      0\n",
              "127     1.383918     -0.088347  ...                -1.027177      0\n",
              "\n",
              "[569 rows x 31 columns]"
            ]
          },
          "metadata": {},
          "execution_count": 18
        }
      ]
    },
    {
      "cell_type": "code",
      "metadata": {
        "id": "F8k0_lNRisDG"
      },
      "source": [
        "#500 Training\n",
        "X_train = feature[:500]\n",
        "y_train = label[:500]\n",
        "\n",
        "#35 Validation\n",
        "X_val = feature[500:535]\n",
        "y_val = label[500:535]\n",
        "\n",
        "#34 Testing\n",
        "X_test = feature[535:]\n",
        "y_test = label[535:]"
      ],
      "execution_count": 19,
      "outputs": []
    },
    {
      "cell_type": "code",
      "metadata": {
        "id": "J1dYZfZ2iw-u"
      },
      "source": [
        "model = Sequential()\n",
        "\n",
        "model.add(Dense(32, activation = 'relu', input_dim = 30))\n",
        "model.add(Dense(64, activation = 'relu'))\n",
        "model.add(Dense(128, activation = 'relu'))\n",
        "model.add(Dense(64, activation = 'relu'))\n",
        "model.add(Dense(32, activation = 'relu'))\n",
        "model.add(Dense(1, activation = 'sigmoid'))\n",
        "\n",
        "model.compile( loss = 'binary_crossentropy' , optimizer = 'adam' , metrics = ['accuracy'])"
      ],
      "execution_count": 20,
      "outputs": []
    },
    {
      "cell_type": "code",
      "metadata": {
        "colab": {
          "base_uri": "https://localhost:8080/"
        },
        "id": "PIf-QdBai1OM",
        "outputId": "c7e8d7cd-563a-4539-e24f-fcbe55470568"
      },
      "source": [
        "model.fit( X_train , y_train, epochs = 10, batch_size = 5, validation_data = (X_val, y_val))"
      ],
      "execution_count": 21,
      "outputs": [
        {
          "output_type": "stream",
          "name": "stdout",
          "text": [
            "Epoch 1/10\n",
            "100/100 [==============================] - 1s 4ms/step - loss: 0.2783 - accuracy: 0.9080 - val_loss: 0.1039 - val_accuracy: 0.9714\n",
            "Epoch 2/10\n",
            "100/100 [==============================] - 0s 3ms/step - loss: 0.0972 - accuracy: 0.9680 - val_loss: 0.0695 - val_accuracy: 0.9714\n",
            "Epoch 3/10\n",
            "100/100 [==============================] - 0s 3ms/step - loss: 0.0758 - accuracy: 0.9740 - val_loss: 0.0547 - val_accuracy: 0.9714\n",
            "Epoch 4/10\n",
            "100/100 [==============================] - 0s 2ms/step - loss: 0.0617 - accuracy: 0.9760 - val_loss: 0.0493 - val_accuracy: 0.9714\n",
            "Epoch 5/10\n",
            "100/100 [==============================] - 0s 2ms/step - loss: 0.0453 - accuracy: 0.9800 - val_loss: 0.0136 - val_accuracy: 1.0000\n",
            "Epoch 6/10\n",
            "100/100 [==============================] - 0s 2ms/step - loss: 0.0403 - accuracy: 0.9800 - val_loss: 0.0243 - val_accuracy: 0.9714\n",
            "Epoch 7/10\n",
            "100/100 [==============================] - 0s 2ms/step - loss: 0.0694 - accuracy: 0.9740 - val_loss: 0.0492 - val_accuracy: 0.9714\n",
            "Epoch 8/10\n",
            "100/100 [==============================] - 0s 2ms/step - loss: 0.0345 - accuracy: 0.9900 - val_loss: 0.0184 - val_accuracy: 1.0000\n",
            "Epoch 9/10\n",
            "100/100 [==============================] - 0s 2ms/step - loss: 0.0252 - accuracy: 0.9880 - val_loss: 0.0057 - val_accuracy: 1.0000\n",
            "Epoch 10/10\n",
            "100/100 [==============================] - 0s 2ms/step - loss: 0.0181 - accuracy: 0.9960 - val_loss: 0.0024 - val_accuracy: 1.0000\n"
          ]
        },
        {
          "output_type": "execute_result",
          "data": {
            "text/plain": [
              "<keras.callbacks.History at 0x7f7c5f0b4a10>"
            ]
          },
          "metadata": {},
          "execution_count": 21
        }
      ]
    },
    {
      "cell_type": "code",
      "metadata": {
        "colab": {
          "base_uri": "https://localhost:8080/"
        },
        "id": "cx_xFrKUi6Aq",
        "outputId": "b4daef6b-25bf-43a0-bdfd-abf1bb3267b6"
      },
      "source": [
        "model.evaluate(X_test , y_test)"
      ],
      "execution_count": 22,
      "outputs": [
        {
          "output_type": "stream",
          "name": "stdout",
          "text": [
            "2/2 [==============================] - 0s 9ms/step - loss: 0.2422 - accuracy: 0.9706\n"
          ]
        },
        {
          "output_type": "execute_result",
          "data": {
            "text/plain": [
              "[0.24218301475048065, 0.970588207244873]"
            ]
          },
          "metadata": {},
          "execution_count": 22
        }
      ]
    },
    {
      "cell_type": "code",
      "metadata": {
        "colab": {
          "base_uri": "https://localhost:8080/"
        },
        "id": "W-xlMTFEi-2o",
        "outputId": "906b3974-64af-4101-8ca5-cb3b70df13ca"
      },
      "source": [
        "model.evaluate(X_val , y_val)"
      ],
      "execution_count": 23,
      "outputs": [
        {
          "output_type": "stream",
          "name": "stdout",
          "text": [
            "2/2 [==============================] - 0s 11ms/step - loss: 0.0024 - accuracy: 1.0000\n"
          ]
        },
        {
          "output_type": "execute_result",
          "data": {
            "text/plain": [
              "[0.0023888852447271347, 1.0]"
            ]
          },
          "metadata": {},
          "execution_count": 23
        }
      ]
    },
    {
      "cell_type": "code",
      "metadata": {
        "colab": {
          "base_uri": "https://localhost:8080/"
        },
        "id": "g0apruVjjClo",
        "outputId": "b42a8c9d-4e9d-4c2d-f683-ba12d43696d3"
      },
      "source": [
        "for i in range(30):\n",
        "  sample = X_test[i]\n",
        "  sample = np.reshape(sample, (1,30))\n",
        "\n",
        "  if (model.predict(sample)[0][0] > 0.5):\n",
        "    print(\"-Benign\")\n",
        "  else:\n",
        "    print(\"-Malignant\")\n",
        "\n",
        "  if (y_test[i] == 1):\n",
        "    print(\"*Banign\")\n",
        "  else:\n",
        "    print(\"*Melignant\")\n",
        "  print(\"-----------\")"
      ],
      "execution_count": 24,
      "outputs": [
        {
          "output_type": "stream",
          "name": "stdout",
          "text": [
            "-Malignant\n",
            "*Melignant\n",
            "-----------\n",
            "-Benign\n",
            "*Banign\n",
            "-----------\n",
            "-Benign\n",
            "*Banign\n",
            "-----------\n",
            "-Benign\n",
            "*Banign\n",
            "-----------\n",
            "-Benign\n",
            "*Banign\n",
            "-----------\n",
            "-Malignant\n",
            "*Melignant\n",
            "-----------\n",
            "-Benign\n",
            "*Banign\n",
            "-----------\n",
            "-Benign\n",
            "*Banign\n",
            "-----------\n",
            "-Benign\n",
            "*Banign\n",
            "-----------\n",
            "-Benign\n",
            "*Banign\n",
            "-----------\n",
            "-Benign\n",
            "*Banign\n",
            "-----------\n",
            "-Malignant\n",
            "*Melignant\n",
            "-----------\n",
            "-Benign\n",
            "*Banign\n",
            "-----------\n",
            "-Malignant\n",
            "*Melignant\n",
            "-----------\n",
            "-Malignant\n",
            "*Melignant\n",
            "-----------\n",
            "-Benign\n",
            "*Banign\n",
            "-----------\n",
            "-Malignant\n",
            "*Melignant\n",
            "-----------\n",
            "-Benign\n",
            "*Banign\n",
            "-----------\n",
            "-Benign\n",
            "*Banign\n",
            "-----------\n",
            "-Benign\n",
            "*Banign\n",
            "-----------\n",
            "-Benign\n",
            "*Banign\n",
            "-----------\n",
            "-Malignant\n",
            "*Melignant\n",
            "-----------\n",
            "-Benign\n",
            "*Banign\n",
            "-----------\n",
            "-Benign\n",
            "*Banign\n",
            "-----------\n",
            "-Benign\n",
            "*Banign\n",
            "-----------\n",
            "-Malignant\n",
            "*Melignant\n",
            "-----------\n",
            "-Benign\n",
            "*Banign\n",
            "-----------\n",
            "-Malignant\n",
            "*Melignant\n",
            "-----------\n",
            "-Benign\n",
            "*Banign\n",
            "-----------\n",
            "-Benign\n",
            "*Banign\n",
            "-----------\n"
          ]
        }
      ]
    },
    {
      "cell_type": "code",
      "metadata": {
        "colab": {
          "base_uri": "https://localhost:8080/"
        },
        "id": "lAZMM1bojEjI",
        "outputId": "65fb8065-8650-439f-adc8-1159f78fc188"
      },
      "source": [
        "t = 0\n",
        "for i in y_val:\n",
        "  if (i == 1):\n",
        "    t += 1\n",
        "\n",
        "print(t)"
      ],
      "execution_count": 25,
      "outputs": [
        {
          "output_type": "stream",
          "name": "stdout",
          "text": [
            "22\n"
          ]
        }
      ]
    },
    {
      "cell_type": "code",
      "metadata": {
        "colab": {
          "base_uri": "https://localhost:8080/"
        },
        "id": "OPQcuDIRjLv2",
        "outputId": "01725c32-3545-46b1-ddea-21153da5e871"
      },
      "source": [
        "t = 0\n",
        "for i in y_test:\n",
        "  if (i == 1):\n",
        "    t += 1\n",
        "\n",
        "print(t)"
      ],
      "execution_count": 26,
      "outputs": [
        {
          "output_type": "stream",
          "name": "stdout",
          "text": [
            "23\n"
          ]
        }
      ]
    },
    {
      "cell_type": "code",
      "metadata": {
        "colab": {
          "base_uri": "https://localhost:8080/"
        },
        "id": "vxkQJ-p2jP4J",
        "outputId": "cdcadd3d-2da4-4baa-887a-adadc942794a"
      },
      "source": [
        "X_test[0] * -.1"
      ],
      "execution_count": 27,
      "outputs": [
        {
          "output_type": "execute_result",
          "data": {
            "text/plain": [
              "array([-0.11623872,  0.0097655 , -0.11010539, -0.10583216, -0.0078262 ,\n",
              "       -0.01394642, -0.03038389, -0.0788802 ,  0.00168624,  0.08729053,\n",
              "        0.00038693,  0.12093571,  0.01579441, -0.01883989,  0.0740023 ,\n",
              "        0.0496754 ,  0.02590796,  0.0059391 ,  0.09434799,  0.05083334,\n",
              "       -0.11536175,  0.01102816, -0.10019595, -0.10625121, -0.04835715,\n",
              "       -0.01401731, -0.05426552, -0.09591809,  0.01435873,  0.01089374])"
            ]
          },
          "metadata": {},
          "execution_count": 27
        }
      ]
    },
    {
      "cell_type": "code",
      "metadata": {
        "colab": {
          "base_uri": "https://localhost:8080/"
        },
        "id": "TcizBzrfjT7Z",
        "outputId": "095b25c1-0573-466d-ae03-3beb0d04bd71"
      },
      "source": [
        "348/350"
      ],
      "execution_count": 28,
      "outputs": [
        {
          "output_type": "execute_result",
          "data": {
            "text/plain": [
              "0.9942857142857143"
            ]
          },
          "metadata": {},
          "execution_count": 28
        }
      ]
    },
    {
      "cell_type": "code",
      "metadata": {
        "colab": {
          "base_uri": "https://localhost:8080/"
        },
        "id": "vIftgfVMjarv",
        "outputId": "f34cc47a-1e6d-4133-8ae4-67c318da5ca5"
      },
      "source": [
        "347/350"
      ],
      "execution_count": 29,
      "outputs": [
        {
          "output_type": "execute_result",
          "data": {
            "text/plain": [
              "0.9914285714285714"
            ]
          },
          "metadata": {},
          "execution_count": 29
        }
      ]
    }
  ]
}